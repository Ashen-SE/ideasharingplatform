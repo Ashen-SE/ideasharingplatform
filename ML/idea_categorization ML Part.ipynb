{
  "cells": [
    {
      "cell_type": "code",
      "execution_count": 61,
      "metadata": {
        "colab": {
          "base_uri": "https://localhost:8080/"
        },
        "id": "OjGqWMDzGPQk",
        "outputId": "1b5eb1d3-b6df-41dc-a00f-d7fed6464186"
      },
      "outputs": [
        {
          "output_type": "stream",
          "name": "stdout",
          "text": [
            "Idea: Create an operating system easier to use than Windows.\n",
            "Found category: software\n",
            "Raw scores: {'carsharing': 31.328611, 'medical': 23.695553, 'education': 32.89378, 'agriculture': 25.077934, 'software': 52.776863}\n",
            "\n",
            "Idea: A ride-sharing service for people with dogs.\n",
            "Found category: carsharing\n",
            "Raw scores: {'carsharing': 43.234314, 'medical': 27.288063, 'education': 35.321945, 'agriculture': 30.258034, 'software': 38.36947}\n",
            "\n",
            "Idea: A service to match tutors to students.\n",
            "Found category: education\n",
            "Raw scores: {'carsharing': 33.708992, 'medical': 34.467037, 'education': 49.565353, 'agriculture': 27.424328, 'software': 40.24421}\n",
            "\n",
            "Idea: A medical device for better pulse measuring.\n",
            "Found category: medical\n",
            "Raw scores: {'carsharing': 25.984545, 'medical': 53.09027, 'education': 34.158226, 'agriculture': 26.30721, 'software': 42.67244}\n",
            "\n",
            "Idea: A low cost pesticide for paddy plantations.\n",
            "Found category: agriculture\n",
            "Raw scores: {'carsharing': 41.751984, 'medical': 27.86141, 'education': 30.812204, 'agriculture': 46.538692, 'software': 39.950607}\n",
            "\n"
          ]
        }
      ],
      "source": [
        "import tensorflow.compat.v1 as tf\n",
        "# Using V1 API for better use with Elmo\n",
        "tf.disable_v2_behavior()\n",
        "\n",
        "import tensorflow_hub as hub\n",
        "import numpy as np\n",
        "\n",
        "# Using the Elmo framework from Google as our pre-trained model\n",
        "# https://www.kaggle.com/models/google/elmo/frameworks/TensorFlow1/variations/elmo\n",
        "embedding = hub.KerasLayer(\"https://www.kaggle.com/models/google/elmo/frameworks/TensorFlow1/variations/elmo/versions/3\")\n",
        "\n",
        "def find_category(categories_list, idea_str):\n",
        "    \"\"\"\n",
        "    find_category outputs the category of a given idea string.\n",
        "\n",
        "    :param categories_list: A list of possible categories (ex: [\"carsharing\",\"hardware\",\"software\"])\n",
        "    :param idea_str: The string of the idea (ex: \"Create an operating system easier to use than Windows.\")\n",
        "    :return: A dictionary with the matching category name in the \"result\" key and a \"categories_scores\" key with the raw scores.\n",
        "    \"\"\"\n",
        "\n",
        "    # Prepare variables that will be locally using in the function\n",
        "    categories_list_local = list(categories_list)\n",
        "    categories_list_local.append(idea_str)\n",
        "    num_categories = len(categories_list)\n",
        "\n",
        "    similarity_input_placeholder = tf.placeholder(tf.string, shape=(None))\n",
        "    similarity_message_encodings = embedding(similarity_input_placeholder)\n",
        "    with tf.Session() as session:\n",
        "        session.run(tf.global_variables_initializer())\n",
        "        session.run(tf.tables_initializer())\n",
        "        message_embeddings_ = session.run(similarity_message_encodings, feed_dict={similarity_input_placeholder: categories_list_local})\n",
        "\n",
        "    categories_dict = {}\n",
        "\n",
        "    # Loop over each category to check the relevance\n",
        "    for i, category in enumerate(categories_list):\n",
        "        score = np.inner(message_embeddings_[num_categories], message_embeddings_[i])\n",
        "        categories_dict[category] = score\n",
        "\n",
        "    # Find the highest value\n",
        "    best_category = max(categories_dict, key=categories_dict.get)\n",
        "\n",
        "    return ({\"result\" : best_category, \"category_scores\" : categories_dict})\n",
        "\n",
        "\n",
        "categories_list = [\"carsharing\",\"medical\",\"education\",\"agriculture\",\"software\"]\n",
        "\n",
        "idea_str = \"Create an operating system easier to use than Windows.\"\n",
        "results = find_category(categories_list, idea_str)\n",
        "print (\"Idea:\", idea_str)\n",
        "print (\"Found category:\", results[\"result\"])\n",
        "print (\"Raw scores:\", results[\"category_scores\"])\n",
        "print ()\n",
        "\n",
        "idea_str = \"A ride-sharing service for people with dogs.\"\n",
        "results = find_category(categories_list, idea_str)\n",
        "print (\"Idea:\", idea_str)\n",
        "print (\"Found category:\", results[\"result\"])\n",
        "print (\"Raw scores:\", results[\"category_scores\"])\n",
        "print ()\n",
        "\n",
        "idea_str = \"A service to match tutors to students.\"\n",
        "results = find_category(categories_list, idea_str)\n",
        "print (\"Idea:\", idea_str)\n",
        "print (\"Found category:\", results[\"result\"])\n",
        "print (\"Raw scores:\", results[\"category_scores\"])\n",
        "print ()\n",
        "\n",
        "idea_str = \"A medical device for better pulse measuring.\"\n",
        "results = find_category(categories_list, idea_str)\n",
        "print (\"Idea:\", idea_str)\n",
        "print (\"Found category:\", results[\"result\"])\n",
        "print (\"Raw scores:\", results[\"category_scores\"])\n",
        "print ()\n",
        "\n",
        "idea_str = \"A low cost pesticide for paddy plantations.\"\n",
        "results = find_category(categories_list, idea_str)\n",
        "print (\"Idea:\", idea_str)\n",
        "print (\"Found category:\", results[\"result\"])\n",
        "print (\"Raw scores:\", results[\"category_scores\"])\n",
        "print ()"
      ]
    },
    {
      "cell_type": "code",
      "execution_count": null,
      "metadata": {
        "id": "etfXMYhMGPQo"
      },
      "outputs": [],
      "source": []
    }
  ],
  "metadata": {
    "kernelspec": {
      "display_name": "Python [conda env:conda-app_eng_test] *",
      "language": "python",
      "name": "conda-env-conda-app_eng_test-py"
    },
    "language_info": {
      "codemirror_mode": {
        "name": "ipython",
        "version": 3
      },
      "file_extension": ".py",
      "mimetype": "text/x-python",
      "name": "python",
      "nbconvert_exporter": "python",
      "pygments_lexer": "ipython3",
      "version": "3.6.8"
    },
    "colab": {
      "provenance": []
    }
  },
  "nbformat": 4,
  "nbformat_minor": 0
}